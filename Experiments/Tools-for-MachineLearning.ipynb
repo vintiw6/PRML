{
 "cells": [
  {
   "cell_type": "markdown",
   "id": "bc9fd032",
   "metadata": {},
   "source": [
    "Installation of Python Libraries/MATLAB tools for Machine Learning\n",
    "\n",
    "Before you begin, you need to make sure you have the necessary tools. In Python, this involves installing libraries like pandas for data manipulation and scikit-learn for machine learning tools."
   ]
  },
  {
   "cell_type": "code",
   "execution_count": null,
   "id": "8881b3ae",
   "metadata": {},
   "outputs": [],
   "source": [
    "%pip install pandas\n",
    "%pip install numpy\n",
    "%pip install scikit-learn\n"
   ]
  }
 ],
 "metadata": {
  "kernelspec": {
   "display_name": "venv",
   "language": "python",
   "name": "python3"
  },
  "language_info": {
   "codemirror_mode": {
    "name": "ipython",
    "version": 3
   },
   "file_extension": ".py",
   "mimetype": "text/x-python",
   "name": "python",
   "nbconvert_exporter": "python",
   "pygments_lexer": "ipython3",
   "version": "3.13.5"
  }
 },
 "nbformat": 4,
 "nbformat_minor": 5
}

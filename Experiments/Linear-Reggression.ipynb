{
 "cells": [
  {
   "cell_type": "markdown",
   "id": "4a10632e",
   "metadata": {},
   "source": [
    "Design a model to predict the housing price from Dataset using Multivariate Linear Regression."
   ]
  },
  {
   "cell_type": "code",
   "execution_count": 10,
   "id": "6edabb23",
   "metadata": {},
   "outputs": [],
   "source": [
    "import pandas as pd\n",
    "import numpy as np\n",
    "from sklearn.datasets import fetch_california_housing\n",
    "from sklearn.model_selection import train_test_split\n",
    "from sklearn.linear_model import LinearRegression\n",
    "from sklearn.metrics import mean_squared_error, r2_score\n",
    "import matplotlib.pyplot as plt"
   ]
  },
  {
   "cell_type": "code",
   "execution_count": 11,
   "id": "20365b1d",
   "metadata": {},
   "outputs": [
    {
     "name": "stdout",
     "output_type": "stream",
     "text": [
      "Original Data Head:\n",
      "   Price  Bedroom   Space  Room   Lot     Tax  Bathroom  Garage  Condition\n",
      "0   53.0      2.0   967.0   5.0  39.0   652.0       1.5     0.0        0.0\n",
      "1   55.0      2.0   815.0   5.0  33.0  1000.0       1.0     2.0        1.0\n",
      "2   56.0      3.0   900.0   5.0  35.0   897.0       1.5     1.0        0.0\n",
      "3   58.0      3.0  1007.0   6.0  24.0   964.0       1.5     2.0        0.0\n",
      "4   64.0      3.0  1100.0   7.0  50.0  1099.0       1.5     1.5        0.0\n"
     ]
    }
   ],
   "source": [
    "df = pd.read_csv('Data/realest.csv')\n",
    "print(\"Original Data Head:\")\n",
    "print(df.head())"
   ]
  },
  {
   "cell_type": "markdown",
   "id": "19c8cc28",
   "metadata": {},
   "source": [
    "Importing and Printing The Head of the Data"
   ]
  },
  {
   "cell_type": "code",
   "execution_count": 12,
   "id": "77d7fa3d",
   "metadata": {},
   "outputs": [
    {
     "name": "stdout",
     "output_type": "stream",
     "text": [
      "\n",
      "Data Info:\n",
      "<class 'pandas.core.frame.DataFrame'>\n",
      "RangeIndex: 157 entries, 0 to 156\n",
      "Data columns (total 9 columns):\n",
      " #   Column     Non-Null Count  Dtype  \n",
      "---  ------     --------------  -----  \n",
      " 0   Price      156 non-null    float64\n",
      " 1   Bedroom    156 non-null    float64\n",
      " 2   Space      146 non-null    float64\n",
      " 3   Room       156 non-null    float64\n",
      " 4   Lot        146 non-null    float64\n",
      " 5   Tax        147 non-null    float64\n",
      " 6   Bathroom   156 non-null    float64\n",
      " 7   Garage     156 non-null    float64\n",
      " 8   Condition  156 non-null    float64\n",
      "dtypes: float64(9)\n",
      "memory usage: 11.2 KB\n",
      "\n",
      "Data Info after handling missing values:\n",
      "<class 'pandas.core.frame.DataFrame'>\n",
      "RangeIndex: 157 entries, 0 to 156\n",
      "Data columns (total 9 columns):\n",
      " #   Column     Non-Null Count  Dtype  \n",
      "---  ------     --------------  -----  \n",
      " 0   Price      157 non-null    float64\n",
      " 1   Bedroom    157 non-null    float64\n",
      " 2   Space      157 non-null    float64\n",
      " 3   Room       157 non-null    float64\n",
      " 4   Lot        157 non-null    float64\n",
      " 5   Tax        157 non-null    float64\n",
      " 6   Bathroom   157 non-null    float64\n",
      " 7   Garage     157 non-null    float64\n",
      " 8   Condition  157 non-null    float64\n",
      "dtypes: float64(9)\n",
      "memory usage: 11.2 KB\n"
     ]
    }
   ],
   "source": [
    "print(\"\\nData Info:\")\n",
    "df.info()\n",
    "df.fillna(df.mean(), inplace=True)\n",
    "print(\"\\nData Info after handling missing values:\")\n",
    "df.info()"
   ]
  },
  {
   "cell_type": "markdown",
   "id": "2a01e06d",
   "metadata": {},
   "source": [
    "Getting Info and Handling missing values of the dataset"
   ]
  },
  {
   "cell_type": "code",
   "execution_count": 13,
   "id": "f72e6293",
   "metadata": {},
   "outputs": [],
   "source": [
    "# Define features (X) and target (y)\n",
    "X = df.drop('Price', axis=1)\n",
    "y = df['Price']\n",
    "\n",
    "# Split the data into training and testing sets\n",
    "X_train, X_test, y_train, y_test = train_test_split(X, y, test_size=0.2, random_state=42)\n"
   ]
  },
  {
   "cell_type": "markdown",
   "id": "0dea8844",
   "metadata": {},
   "source": [
    "Definfing the Values of X and Y and Spliting into Training and Testing sets"
   ]
  },
  {
   "cell_type": "code",
   "execution_count": 14,
   "id": "a56e20d9",
   "metadata": {},
   "outputs": [],
   "source": [
    "model = LinearRegression()\n",
    "model.fit(X_train, y_train)\n",
    "y_pred = model.predict(X_test)"
   ]
  },
  {
   "cell_type": "markdown",
   "id": "762474e7",
   "metadata": {},
   "source": [
    "Creating and Training Linear Regression Model & Making Prediction on test case"
   ]
  },
  {
   "cell_type": "code",
   "execution_count": 15,
   "id": "31591bfa",
   "metadata": {},
   "outputs": [
    {
     "name": "stdout",
     "output_type": "stream",
     "text": [
      "\n",
      "Model Evaluation:\n"
     ]
    },
    {
     "ename": "NameError",
     "evalue": "name 'metrics' is not defined",
     "output_type": "error",
     "traceback": [
      "\u001b[31m---------------------------------------------------------------------------\u001b[39m",
      "\u001b[31mNameError\u001b[39m                                 Traceback (most recent call last)",
      "\u001b[36mCell\u001b[39m\u001b[36m \u001b[39m\u001b[32mIn[15]\u001b[39m\u001b[32m, line 2\u001b[39m\n\u001b[32m      1\u001b[39m \u001b[38;5;28mprint\u001b[39m(\u001b[33m'\u001b[39m\u001b[38;5;130;01m\\n\u001b[39;00m\u001b[33mModel Evaluation:\u001b[39m\u001b[33m'\u001b[39m)\n\u001b[32m----> \u001b[39m\u001b[32m2\u001b[39m \u001b[38;5;28mprint\u001b[39m(\u001b[33m'\u001b[39m\u001b[33mMean Absolute Error (MAE):\u001b[39m\u001b[33m'\u001b[39m, \u001b[43mmetrics\u001b[49m.mean_absolute_error(y_test, y_pred))\n\u001b[32m      3\u001b[39m \u001b[38;5;28mprint\u001b[39m(\u001b[33m'\u001b[39m\u001b[33mMean Squared Error (MSE):\u001b[39m\u001b[33m'\u001b[39m, metrics.mean_squared_error(y_test, y_pred))\n\u001b[32m      4\u001b[39m \u001b[38;5;28mprint\u001b[39m(\u001b[33m'\u001b[39m\u001b[33mR-squared (R²):\u001b[39m\u001b[33m'\u001b[39m, metrics.r2_score(y_test, y_pred))\n",
      "\u001b[31mNameError\u001b[39m: name 'metrics' is not defined"
     ]
    }
   ],
   "source": [
    "print('\\nModel Evaluation:')\n",
    "print('Mean Absolute Error (MAE):', metrics.mean_absolute_error(y_test, y_pred))\n",
    "print('Mean Squared Error (MSE):', metrics.mean_squared_error(y_test, y_pred))\n",
    "print('R-squared (R²):', metrics.r2_score(y_test, y_pred))"
   ]
  },
  {
   "cell_type": "markdown",
   "id": "d56178c0",
   "metadata": {},
   "source": [
    "Evaluating the model"
   ]
  },
  {
   "cell_type": "code",
   "execution_count": 16,
   "id": "131c91fa",
   "metadata": {},
   "outputs": [
    {
     "name": "stdout",
     "output_type": "stream",
     "text": [
      "\n",
      "Model Coefficients:\n",
      "           Coefficient\n",
      "Bedroom      -3.383436\n",
      "Space         0.006339\n",
      "Room          3.027600\n",
      "Lot           0.207062\n",
      "Tax           0.005776\n",
      "Bathroom      5.497968\n",
      "Garage        4.531928\n",
      "Condition     0.433868\n"
     ]
    }
   ],
   "source": [
    "print('\\nModel Coefficients:')\n",
    "coefficients = pd.DataFrame(model.coef_, X.columns, columns=['Coefficient'])\n",
    "print(coefficients)"
   ]
  },
  {
   "cell_type": "markdown",
   "id": "715b380d",
   "metadata": {},
   "source": [
    "Display the model's coefficients"
   ]
  },
  {
   "cell_type": "code",
   "execution_count": 17,
   "id": "1a4d2b87",
   "metadata": {},
   "outputs": [
    {
     "data": {
      "image/png": "[encoded data removed]",
      "text/plain": [
       "<Figure size 1000x600 with 1 Axes>"
      ]
     },
     "metadata": {},
     "output_type": "display_data"
    }
   ],
   "source": [
    "plt.figure(figsize=(10, 6))\n",
    "plt.scatter(y_test, y_pred)\n",
    "plt.xlabel(\"Actual Prices\")\n",
    "plt.ylabel(\"Predicted Prices\")\n",
    "plt.title(\"Actual Prices vs. Predicted Prices\")\n",
    "plt.plot([y_test.min(), y_test.max()], [y_test.min(), y_test.max()], 'k--', lw=2) # Diagonal line\n",
    "plt.savefig('actual_vs_predicted.png')"
   ]
  },
  {
   "cell_type": "markdown",
   "id": "93f77a62",
   "metadata": {},
   "source": [
    "Visualize the predictions vs. actual values"
   ]
  },
  {
   "cell_type": "code",
   "execution_count": null,
   "id": "410d1a23",
   "metadata": {},
   "outputs": [],
   "source": [
    "plt.figure(figsize=(10, 6))\n",
    "sns.histplot(y_test - y_pred, kde=True, bins=15)\n",
    "plt.xlabel(\"Residuals\")\n",
    "plt.ylabel(\"Frequency\")\n",
    "plt.title(\"Distribution of Residuals\")\n",
    "plt.savefig('residuals_distribution.png')"
   ]
  }
 ],
 "metadata": {
  "kernelspec": {
   "display_name": "venv",
   "language": "python",
   "name": "python3"
  },
  "language_info": {
   "codemirror_mode": {
    "name": "ipython",
    "version": 3
   },
   "file_extension": ".py",
   "mimetype": "text/x-python",
   "name": "python",
   "nbconvert_exporter": "python",
   "pygments_lexer": "ipython3",
   "version": "3.13.5"
  }
 },
 "nbformat": 4,
 "nbformat_minor": 5
}

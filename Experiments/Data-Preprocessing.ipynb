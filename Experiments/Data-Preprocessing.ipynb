{
 "cells": [
  {
   "cell_type": "code",
   "execution_count": 1,
   "id": "bb62848c",
   "metadata": {},
   "outputs": [],
   "source": [
    "import numpy as np\n",
    "import pandas as pd\n",
    "from sklearn.impute import SimpleImputer\n",
    "from sklearn.preprocessing import LabelEncoder, OneHotEncoder, StandardScaler\n",
    "from sklearn.model_selection import train_test_split"
   ]
  },
  {
   "cell_type": "markdown",
   "id": "0e9570f9",
   "metadata": {},
   "source": [
    "Imporing Libaries"
   ]
  },
  {
   "cell_type": "code",
   "execution_count": null,
   "id": "f292ac8b",
   "metadata": {},
   "outputs": [
    {
     "name": "stdout",
     "output_type": "stream",
     "text": [
      "  Country   Age    Salary  Gender Purchased\n",
      "0   Spain  49.0   81275.0  Female        No\n",
      "1     USA  51.0  111853.0    Male        No\n",
      "2   Spain  31.0   82139.0    Male        No\n",
      "3  France  43.0  143423.0    Male        No\n",
      "4  France  23.0   77995.0  Female       Yes\n"
     ]
    }
   ],
   "source": [
    "data = pd.read_csv('Data/exp2.csv')\n",
    "print(data.head())"
   ]
  },
  {
   "cell_type": "markdown",
   "id": "e1cd5f78",
   "metadata": {},
   "source": [
    "Reads the few first coulmns of the csv file"
   ]
  },
  {
   "cell_type": "code",
   "execution_count": null,
   "id": "71d6315b",
   "metadata": {},
   "outputs": [],
   "source": [
    "imputer = SimpleImputer(strategy='mean')\n",
    "data[['Age','Salary',]] = imputer.fit_transform(data[['Age','Salary',]])"
   ]
  },
  {
   "cell_type": "markdown",
   "id": "68fd9e37",
   "metadata": {},
   "source": [
    "This Handles the Missing values"
   ]
  },
  {
   "cell_type": "code",
   "execution_count": null,
   "id": "698381b5",
   "metadata": {},
   "outputs": [],
   "source": [
    "le = LabelEncoder()\n",
    "data['Gender'] = le.fit_transform(data['Gender'])"
   ]
  },
  {
   "cell_type": "markdown",
   "id": "1e5640e9",
   "metadata": {},
   "source": [
    "This converts the Gender column into numerical values. For example, it might turn 'Male' into 1 and 'Female' into 0. This method is suitable for binary categories (those with only two options)."
   ]
  },
  {
   "cell_type": "code",
   "execution_count": 5,
   "id": "01dd4882",
   "metadata": {},
   "outputs": [],
   "source": [
    "data = pd.get_dummies(data, columns=['Country'], drop_first=True)"
   ]
  },
  {
   "cell_type": "markdown",
   "id": "ae19ec19",
   "metadata": {},
   "source": [
    " This code prepares your data for a machine learning model. It converts text categories like 'Gender' and 'Country' into numbers, standardizes the scale of 'Age' and 'Salary' so they're comparable, and then splits the entire dataset into a training set (to build the model) and a test set (to evaluate its performance)."
   ]
  },
  {
   "cell_type": "code",
   "execution_count": 6,
   "id": "cb72f59b",
   "metadata": {},
   "outputs": [],
   "source": [
    "scaler = StandardScaler()\n",
    "data[['Age', 'Salary']] = scaler.fit_transform(data[['Age', 'Salary']])"
   ]
  },
  {
   "cell_type": "markdown",
   "id": "a6d604a6",
   "metadata": {},
   "source": [
    "This step standardizes the range of numerical features so that they are all on a similar scale. This is important because many algorithms are sensitive to the scale of the data, and features with larger ranges can disproportionately influence the model.\n",
    "\n",
    "    scaler = StandardScaler() and data[['Age', 'Salary']] = scaler.fit_transform(data[['Age', 'Salary']])\n",
    "\n",
    "        StandardScaler transforms the Age and Salary columns so that they have a mean of 0 and a standard deviation of 1."
   ]
  },
  {
   "cell_type": "code",
   "execution_count": 7,
   "id": "c2bc8fc1",
   "metadata": {},
   "outputs": [],
   "source": [
    "X = data.drop('Purchased', axis=1)\n",
    "y = data['Purchased']\n",
    "X_train, X_test, y_train, y_test = train_test_split(X, y, test_size=0.2, random_state=0)"
   ]
  },
  {
   "cell_type": "markdown",
   "id": "25090678",
   "metadata": {},
   "source": [
    " Here's the breakdown for the above line:\n",
    "\n",
    "1.  **Converting text categories into numbers** is done by these lines:\n",
    "    * `le.fit_transform(data['Gender'])`\n",
    "    * `pd.get_dummies(data, columns=['Country'], drop_first=True)`\n",
    "\n",
    "2.  **Scaling numerical features to a standard range** is done by this line:\n",
    "    * `scaler.fit_transform(data[['Age', 'Salary']])`\n",
    "\n",
    "3.  **Splitting the data for training and testing** is done by this line:\n",
    "    * `train_test_split(X, y, test_size=0.2, random_state=0)`"
   ]
  }
 ],
 "metadata": {
  "kernelspec": {
   "display_name": "venv",
   "language": "python",
   "name": "python3"
  },
  "language_info": {
   "codemirror_mode": {
    "name": "ipython",
    "version": 3
   },
   "file_extension": ".py",
   "mimetype": "text/x-python",
   "name": "python",
   "nbconvert_exporter": "python",
   "pygments_lexer": "ipython3",
   "version": "3.13.5"
  }
 },
 "nbformat": 4,
 "nbformat_minor": 5
}
